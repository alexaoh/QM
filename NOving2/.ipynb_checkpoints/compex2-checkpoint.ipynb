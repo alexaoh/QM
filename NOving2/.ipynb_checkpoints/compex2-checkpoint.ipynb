{
 "cells": [
  {
   "cell_type": "markdown",
   "metadata": {},
   "source": [
    "**Navn på gruppens medlemmer:**\n",
    "\n",
    "# Numerisk beregning av energier for partikkel i endelig brønnpotensiale\n",
    "\n",
    "For en partikkel i en endelig brønn med bredde $L$ og dybde $V_0$ er\n",
    "$$ V(x) = \\begin{cases} -V_0 & \\text{for}\\,\\, 0 < x < L \\\\ 0 & \\text{ellers} \\end{cases} $$\n",
    "\n",
    "Energiene til partikkelen er\n",
    "$$E = \\frac{2 \\hbar^2 z^2}{m L^2} - V_0,$$\n",
    "der $z$ er (reelle) løsninger av ligningene\n",
    "$$\\tan{(z)} = \\sqrt{\\frac{z_0^2}{z^2} - 1} \\qquad \\text{og} \\qquad \\tan{\\left(z + \\frac{\\pi}{2}\\right)} = \\sqrt{\\frac{z_0^2}{z^2} - 1}$$\n",
    "med $z_0 = \\frac{L}{2 \\hbar} \\sqrt{2 m V_0}.$\n",
    "Energiene kan i dette tilfellet ikke angis ved hjelp av enkle analytiske uttrykk. \n",
    "Vi skal her løse disse ligningene numerisk."
   ]
  },
  {
   "cell_type": "code",
   "execution_count": 78,
   "metadata": {},
   "outputs": [],
   "source": [
    "# uncomment ONE line to choose matplotlib backend\n",
    "# if using Jupyter Notebook, use interactive \"notebook\" backend for best results\n",
    "# if using Jupyter Lab, use interactive \"widget\" backend for best results\n",
    "# if both fail, use static \"inline\" backend\n",
    "#%matplotlib notebook \n",
    "#%matplotlib widget \n",
    "#%matplotlib inline \n",
    "\n",
    "import numpy as np\n",
    "import matplotlib.pyplot as plt"
   ]
  },
  {
   "cell_type": "markdown",
   "metadata": {},
   "source": [
    "**Finn energinivåene til en partikkel i en endelig brønn numerisk. Vi har foreslått en framgangsmåte nedenfor.**\n",
    "1. **Plott funksjonene som involverer $z$ i ligningene over, så du kan se grafisk omtrent hvor løsningene ligger.**\n",
    "2. **Lokalisér intervaller på $z$-aksen som hver inneholder nøyaktig én løsning.**\n",
    "3. **Benytt en numerisk metode til å finne løsningen på hvert av intervallene. Kontrollér at de er korrekte ved å plotte dem sammen med funksjonene.**"
   ]
  },
  {
   "cell_type": "code",
   "execution_count": 79,
   "metadata": {},
   "outputs": [
    {
     "name": "stdout",
     "output_type": "stream",
     "text": [
      "A solution of the left equation is approx: 1.4668849966730289 | after 7 iterations.\n",
      "A solution of the left equation is approx: 7.310703614471966 | after 15 iterations.\n",
      "A solution of the left equation is approx: 4.396286615263821 | after 5 iterations.\n",
      "A solution of the right equation is approx: 8.75703430766589 | after 12 iterations.\n",
      "A solution of the right equation is approx: 2.9327033818989703 | after 5 iterations.\n",
      "A solution of the right equation is approx: 5.856233423716016 | after 5 iterations.\n"
     ]
    },
    {
     "data": {
      "image/png": "[encoded data removed]",
      "text/plain": [
       "<Figure size 432x288 with 1 Axes>"
      ]
     },
     "metadata": {
      "needs_background": "light"
     },
     "output_type": "display_data"
    }
   ],
   "source": [
    "\n",
    "electron_charge = 1.602e-19\n",
    "m = electron_charge\n",
    "V0 = 1/electron_charge #1eV \n",
    "h_bar = 1.055e-34\n",
    "L = 20*h_bar\n",
    "\n",
    "z0 = L/(2*h_bar)*np.sqrt(2*m*V0)\n",
    "\n",
    "def func1(z):\n",
    "    return np.sqrt((z0/z)**2-1)\n",
    "\n",
    "def E(z):\n",
    "    return (2*h_bar**2*z**2)/(m*L**2)-V0\n",
    "\n",
    "z_values = np.linspace(1,10,200)\n",
    "\n",
    "plt.plot(z_values, np.tan(z_values), label=r\"$tan(z)$\")\n",
    "plt.plot(z_values, func1(z_values), label=r\"$\\sqrt{\\frac{z_0^2}{z^2} - 1}$\")\n",
    "plt.plot(z_values, np.tan(z_values + np.pi/2), label=r\"$tan(z + \\pi/2)$\")\n",
    "plt.ylim(-75,75)\n",
    "#plt.xlim(8.6,9)\n",
    "plt.legend()\n",
    "\n",
    "\n",
    "#Try to solve find the solutions by a fixed point method (Newton's method):\n",
    "\n",
    "def f(z):\n",
    "    ''' Gives f(z) = 0, for Newton's method'''\n",
    "    return np.tan(z) - func1(z)\n",
    "\n",
    "def g(z):\n",
    "    ''' g(z) = z - f(z)/f'(z) for standard fixed-point iteration''' \n",
    "    return z - f(z)/(z0**2/(z**3*np.sqrt((z0/z)**2-1))+1/np.cos(z)**2)\n",
    "\n",
    "def f2(z):\n",
    "    ''' Gives f(z) = 0, for Newton's method'''\n",
    "    return np.tan(z+np.pi/2) - func1(z)\n",
    "\n",
    "def g2(z):\n",
    "    ''' g2(z) = z - f2(z)/f2'(z) for standard fixed-point iteration '''\n",
    "    return z - f2(z)/(z0**2/(z**3*np.sqrt((z0/z)**2-1))+1/np.sin(z)**2)\n",
    "\n",
    "def newton(z_start, tol, g):\n",
    "    ''' Newton's method as a standard fixed-point iteration '''\n",
    "    assert tol>0\n",
    "    maxiter = 100 #for example\n",
    "    iter = 0\n",
    "    errest = 2*tol\n",
    "    while errest > tol:\n",
    "        iter += 1\n",
    "        z = g(z_start)\n",
    "        errest = abs(z-z_start)\n",
    "        z_start = z\n",
    "        if iter > maxiter:\n",
    "            break;\n",
    "    return z, iter\n",
    "\n",
    "#Solutions to the left equation (red points in plot)\n",
    "z_start1 = 1.55\n",
    "tol = 1e-5\n",
    "sol1, iter1 = newton(z_start1, tol, g)\n",
    "\n",
    "z_start2 = 1.6;\n",
    "sol2, iter2 = newton(z_start2, tol, g)\n",
    "\n",
    "z_start3 = 4.2\n",
    "sol3, iter3 = newton(z_start3, tol, g)\n",
    "\n",
    "#Solutions to the right equation (blue points in plot)\n",
    "z_start4 = 2\n",
    "sol4, iter4 = newton(z_start4, tol, g2)\n",
    "\n",
    "z_start5 = 3\n",
    "sol5, iter5 = newton(z_start5, tol, g2)\n",
    "\n",
    "z_start6 = 6\n",
    "sol6, iter6 = newton(z_start6, tol, g2)\n",
    "\n",
    "print(\"A solution of the left equation is approx:\",sol1,\"| after\",iter1,\"iterations.\")\n",
    "print(\"A solution of the left equation is approx:\",sol2,\"| after\",iter2,\"iterations.\")\n",
    "print(\"A solution of the left equation is approx:\",sol3,\"| after\",iter3,\"iterations.\")\n",
    "\n",
    "print(\"A solution of the right equation is approx:\",sol4,\"| after\",iter4,\"iterations.\")\n",
    "print(\"A solution of the right equation is approx:\",sol5,\"| after\",iter5,\"iterations.\")\n",
    "print(\"A solution of the right equation is approx:\",sol6,\"| after\",iter6,\"iterations.\")\n",
    "\n",
    "plt.plot(sol1,np.tan(sol1), 'ro')\n",
    "plt.plot(sol2, np.tan(sol2), 'ro')\n",
    "plt.plot(sol3, np.tan(sol3), 'ro')\n",
    "plt.plot(sol4, np.tan(sol4 + np.pi/2), 'bo') \n",
    "plt.plot(sol5, np.tan(sol5 + np.pi/2), 'bo')\n",
    "plt.plot(sol6, np.tan(sol6 + np.pi/2), 'bo')\n",
    "plt.title(\"Graphical presentation of functions and solutions (Newton's method)\")\n",
    "plt.show()"
   ]
  },
  {
   "cell_type": "markdown",
   "metadata": {},
   "source": [
    "# Shooting-metoden\n",
    "\n",
    "I den første numeriske øvingen løste vi den tidsuavhengige Schrödingerligningen numerisk ved å finne egenverdiene og egenvektorene til en matrise.\n",
    "Vi skal her se på en alternativ og mer illustrerende numerisk teknikk for å løse ligningen.\n",
    "Teknikken kan brukes på alle potensialer, men vi begrenser oss her til potensialer som er symmetriske om $x = 0$, noe som gjør den litt enklere i bruk.\n",
    "\n",
    "Vi kommer til å få bruk for noen viktige egenskaper til de stasjonære tilstandene.\n",
    "* Den $n$-te eksiterte tilstanden $\\psi(x)$ i et symmetrisk potensial $V(x) = V(-x)$ er\n",
    "    * **symmetrisk** og **krysser ikke** $x$-aksen i origo for **partalls**-$n$. Altså er $\\psi(-x) = \\psi(x)$ og $\\psi(0) \\neq 0$.\n",
    "    * **antisymmetrisk** og **krysser** $x$-aksen i origo for **oddetalls**-$n$. Altså er $\\psi(-x) = -\\psi(x)$ og $\\psi(0) = 0$.\n",
    "* Den $n$-te eksiterte tilstanden $\\psi(x)$ har $n$ nullpunkter.\n",
    "\n",
    "Schrödingerligningen\n",
    "$$ \\hat{H} \\psi = -\\frac{\\hbar^2}{2 m} \\psi'' + V \\psi = E \\psi $$\n",
    "har, matematisk sett, løsninger for *alle* verdier av $E$.\n",
    "Gitt et par randverdier og en energi $E$, er det i teorien bare å integrere i vei for å finne en passende funksjon $\\psi(x)$.\n",
    "Men i fysikken er vi kun interessert i *fysisk akseptable løsninger* av ligningen som kan beskrive fysiske partikler.\n",
    "Disse skal beskrive en sannsynlighetstetthet $|\\psi|^2$ for posisjonen til en partikkel ved en måling, og må derfor være normerte, dvs. $\\int |\\psi|^2 \\mathrm{d} x$ = 1, noe som krever at $\\psi(x) \\rightarrow 0$ (tilstrekkelig raskt) når $x \\rightarrow \\pm \\infty$.\n",
    "Vi skal her se hvordan nettopp dette kravet legger (store) begrensninger på hva energiene $E$ kan være.\n",
    "\n",
    "For å finne fysisk akseptable verdier for $E$ (og dermed $\\psi)$, kan vi derfor gå fram på følgende måte:\n",
    "1. Gjett en energi $E$.\n",
    "2. Finn to kjente randverdier for $\\psi(x)$.\n",
    "3. Integrér Schrödingerligningen for å finne den passende funksjonen $\\psi(x)$.\n",
    "4. Undersøk om $\\psi(x)$ er en fysisk akseptabel løsning.\n",
    "    1. Hvis $\\psi(x) \\rightarrow 0$ når $x \\rightarrow \\pm \\infty$, kan $\\psi(x)$ normeres til en fysisk akseptabel løsning, og vi har gjettet en riktig verdi for $E$.\n",
    "    2. Hvis ikke $\\psi(x) \\rightarrow 0$ når $x \\rightarrow \\pm \\infty$, er $\\psi(x)$ ikke en fysisk akseptabel løsning, og vi har gjettet en gal verdi for $E$.\n",
    "\n",
    "Kort oppsummert gjetter vi en energi $E$ og \"skyter\" etter en passende funksjon $\\psi(x)$ fra kjente randverdier, før vi undersøker om vi \"treffer\" $\\psi = 0$ i $x = \\pm \\infty$. Metoden kalles derfor gjerne [the shooting method](https://en.wikipedia.org/wiki/Shooting_method) på engelsk.\n",
    "\n",
    "I den første numeriske øvingen tilnærmet vi den tidsuavhengige Schrödingerligningen som\n",
    "$$-\\frac{\\hbar^2}{2 m} \\frac{\\psi_{i+1} - 2 \\psi_i + \\psi_{i-1}}{{\\Delta x}^2} + V_i \\psi_i = E \\psi_i$$\n",
    "Vi lar her $i = 0$ svare til $x = 0$.\n",
    "Så lenge vi kjenner to verdier av $\\psi_i$ ved siden av hverandre, kan vi bruke denne ligningen til å finne verdiene $\\psi_i$ for alle $i$.\n",
    "\n",
    "I et symmetrisk potensial kan vi for oddetalls-$n$ utnytte $\\psi(0) = 0$ til å sette $\\psi_0 = 0$ og $\\psi_1$ til en vilkårlig verdi forskjellig fra $0$, for eksempel $\\psi_1 = 1$.\n",
    "Deretter kan vi benytte den tilnærmede Schrödingerligningen til å finne resten av verdiene $\\psi_i$.\n",
    "Hvis det ser ut til at $\\psi \\rightarrow 0$ for store $|x|$, kan vi normere $\\psi$ for å finne en fysisk akseptabel løsning.\n",
    "Den konkrete verdien vi velger for $\\psi_1$ er uten betydning, da den uansett blir korrigert ved normeringen.\n",
    "\n",
    "For partalls-$n$ utnytter vi tilsvarende $\\psi(0) \\neq 0$ til å sette for eksempel $\\psi_0 = 1$.\n",
    "Vi kan så utnytte symmetrien $\\psi_1 = \\psi_{-1}$ til å finne $\\psi_1$ fra den tilnærmede Schrödingerligningen.\n",
    "Så kan vi igjen integrere ligningen og sjekke om energien svarer til en akseptabel løsning.\n",
    "\n",
    "**Skriv en funksjon som skyter etter en symmetrisk eller antisymmetrisk kandidat for energiegenfunksjonen $\\psi(x)$ med energi $E$ til en partikkel med masse $m$ i et symmetrisk potensial $V(x)$. Den skal returnere integrasjonspunkter $x_i$, funksjonsverdiene $\\psi_i = \\psi(x_i)$ i disse punktene og antall nullpunkter i $\\psi(x)$. Funksjonen skal skyte ut fra origo i begge retninger og må stoppe å skyte etter en endelig avstand eller når det er åpenbart at $\\psi(x)$ divergerer, men den behøver ikke normere $\\psi(x)$.**"
   ]
  },
  {
   "cell_type": "code",
   "execution_count": 118,
   "metadata": {},
   "outputs": [
    {
     "name": "stdout",
     "output_type": "stream",
     "text": [
      "Psis: [-0.25003720270186447, -1.2033365955570596, -24.067492963137383]\n"
     ]
    },
    {
     "data": {
      "image/png": "[encoded data removed]",
      "text/plain": [
       "<Figure size 432x288 with 1 Axes>"
      ]
     },
     "metadata": {
      "needs_background": "light"
     },
     "output_type": "display_data"
    }
   ],
   "source": [
    "def shooting():\n",
    "    ''' \n",
    "    Shooting method for solving equations numerically. \n",
    "    Returns: x_i (integration points), psi_i (function values in x_i) and number of roots of psi. \n",
    "    '''\n",
    "    pass\n",
    "\n",
    "psis = []\n",
    "x_i = []\n",
    "root_num = 0\n",
    "deltax = 0.1e-14 #testing for now\n",
    "E = 0.50*h_bar*omega\n",
    "n = 50\n",
    "if n % 2 == 0:\n",
    "    psi0 = 1\n",
    "    for i in range(n):\n",
    "        psi1 = (V(i*deltax)-E)*psi0*2*m/(h_bar**2)*deltax**2+2*psi0\n",
    "        if (abs(psi1) > 25):\n",
    "            break;\n",
    "        x_i.append(i*deltax)\n",
    "        psis.append(psi1)\n",
    "        psi1, psi0 = psi0, psi1\n",
    "        root_num += i\n",
    "        \n",
    "else: \n",
    "    for i in range(n): \n",
    "        psi0 = 0\n",
    "        psi_minus1 = -1\n",
    "        psi1 = ((deltax**2*2*m)/h_bar**2)*(V(i*deltax)-E)*psi0-psi_minus1+2*psi0 #Denne stemmer nok ikke tror jeg!\n",
    "        x_i.append(i*deltax)\n",
    "        psis.append(psi1)\n",
    "        psi_minus1, psi0, psi1 = psi0, psi1, psi_minus1\n",
    "        root_num += i\n",
    "        \n",
    "\n",
    "\n",
    "print(\"Psis:\", psis)\n",
    "#print(\"x_is:\", x_i)\n",
    "\n",
    "x_list = np.linspace(0,n,len(psis))\n",
    "plt.plot(x_list, psis)\n",
    "plt.show()\n",
    "    \n",
    "    "
   ]
  },
  {
   "cell_type": "markdown",
   "metadata": {},
   "source": [
    "**Test funksjonen på et elektron i grunntilstanden i en harmonisk oscillator ved å skyte med energier rett over og under $E = 0.50 \\hbar \\omega$, for eksempel $E = 0.49 \\hbar \\omega$ og $E = 0.51 \\hbar \\omega$. Hva skjer?**"
   ]
  },
  {
   "cell_type": "code",
   "execution_count": 66,
   "metadata": {},
   "outputs": [],
   "source": [
    "m = 9.109e-31\n",
    "omega = np.sqrt(2/m)\n",
    "\n",
    "def V(x):\n",
    "    ''' Potential for harmonic oscillator '''\n",
    "    return 0.5*m*omega**2*x**2"
   ]
  },
  {
   "cell_type": "markdown",
   "metadata": {},
   "source": [
    "Vi kan systematisere gjettingen av $E$ på en måte som lar oss søke etter energien og energiegenfunksjonen til en vilkårlig $n$-te eksiterte tilstand.\n",
    "\n",
    "Anta at vi vet med sikkerhet at $E$ ligger mellom $E_1$ og $E_2$ (der $E_2 > E_1$), og la disse energiene svare til funksjonene $\\psi_1$ og $\\psi_2$ med $n_1$ og $n_2$ nullpunkter.\n",
    "Da er $n_1 \\leq n$ og $n_2 > n$.\n",
    "Vi kan så skyte ut en ny funksjon $\\psi_0$ med energien $E_0 = (E_1 + E_2) / 2$ og $n_0$ nullpunkter.\n",
    "Hvis $n_0 \\leq n$, er $E_0$ en bedre nedre skranke for $E$ enn $E_1$.\n",
    "Hvis $n_0 > n$, derimot, er $E_0$ en bedre øvre skranke til $E$ enn $E_2$.\n",
    "Vi kan dermed bytte ut en av skrankene med $E_0$ og gjenta prosessen for å finne et gradvis mindre intervall der energien ligger.\n",
    "Når intervallet er så lite at vi er fornøyd med en hvilken som helst energiverdi på intervallet, stopper vi prosessen.\n",
    "\n",
    "Men hvordan finner vi to skranker $E_1$ og $E_2$ til å begynne med, hvis vi ikke aner hva den virkelige energien er?\n",
    "En enkel måte er å sjekke antall nullpunkter $n_0$ som svarer til en vilkårlig $E_0$, for eksempel $E_0 = 0$.\n",
    "Denne energien må være enten en nedre eller øvre skranke for $E$.\n",
    "Vi kan så finne den andre skranken ved å sette $E_1 = -1$ (eller $E_2 = +1$), og så senke (eller øke) denne energien gradvis til vi finner den andre skranken.\n",
    "Dette kan gjøres veldig raskt hvis vi øker avstanden mellom $E_1$ og $E_2$ eksponensielt.\n",
    "Så kan vi sette i gang med halveringsmetoden for å finne energien.\n",
    "\n",
    "**Finn energien til den 60. eksiterte tilstanden for et elektron i en harmonisk oscillator.**\n",
    "\n",
    "**Du kan gjøre oppgaven på en generell og \"automatisk\" måte som fungerer for en vilkårlig $n$ og et vilkårlig symmetrisk potensial $V(x)$. Kombinér i så fall metoden for å finne to initielle skranker $E_1$ og $E_2$ med halveringsmetoden.**\n",
    "\n",
    "**Du kan også gjøre oppgaven på en \"manuell\", men like illustrerende måte. Du kan i så fall skyte og plotte funksjoner med varierende energi $E$ og justere energiene etter visuell inspeksjon av plottene inntil du vet med god presisjon hva energien må være.**"
   ]
  },
  {
   "cell_type": "code",
   "execution_count": null,
   "metadata": {},
   "outputs": [],
   "source": []
  }
 ],
 "metadata": {
  "kernelspec": {
   "display_name": "Python 3",
   "language": "python",
   "name": "python3"
  },
  "language_info": {
   "codemirror_mode": {
    "name": "ipython",
    "version": 3
   },
   "file_extension": ".py",
   "mimetype": "text/x-python",
   "name": "python",
   "nbconvert_exporter": "python",
   "pygments_lexer": "ipython3",
   "version": "3.7.6"
  }
 },
 "nbformat": 4,
 "nbformat_minor": 4
}
