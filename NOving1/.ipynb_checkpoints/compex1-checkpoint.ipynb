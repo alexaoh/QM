{
 "cells": [
  {
   "cell_type": "markdown",
   "metadata": {},
   "source": [
    "**Navn på gruppens medlemmer: Alexander J Ohrt og Jostein Kløgetvedt**\n",
    "\n",
    "# Om de numeriske øvingene i kvantemekanikk\n",
    "\n",
    "Målet med de numeriske øvingene i kvantemekanikk er\n",
    "* å bruke numeriske metoder og visualiseringer for å forstå kvantemekanikk bedre.\n",
    "* å utvikle en generell \"verktøykasse\" du kan bruke også når du arbeider med andre øvinger og lærer nytt stoff i faget.\n",
    "* å se ligningene i kvantemekanikken og løsninger av disse fra et generelt perspektiv.\n",
    "* å utvikle ferdigheter innen programmering og numerikk.\n",
    "\n",
    "Vi legger opp til bruk av Python sammen med bibliotekene `numpy`, `scipy` og `matplotlib` for numerikk, vitenskapelige beregninger og plotting.\n",
    "*Bruk disse for alt de er verdt!*\n",
    "God bruk av disse bibliotekene vil la deg uttrykke deg mer konsist enn om du kun bruker standard Python-funksjonalitet.\n",
    "Vi forventer at du selv finner fram til relevant funksjonalitet og dokumentasjon i bibliotekene.\n",
    "De er alle godt dokumentert på Internett.\n",
    "\n",
    "I Jupyter Notebook og Jupyter Lab er det mulig å bruke ulike *backends* for plotting med `matplotlib`.\n",
    "Dette er grovt forklart forskjellige underliggende \"motorer\" som bestemmer utseende og funksjonaliteten til figurene som produseres.\n",
    "Avhengig av hvilket av programmene du bruker, vil du erfare at en backend fungerer bedre enn andre.\n",
    "I Jupyter Notebook fungerer `notebook`-backenden best og uten behov for installasjon av ekstra programvare, men i Jupyter Lab må tillegget [jupyter-matplotlib](https://github.com/matplotlib/jupyter-matplotlib) installeres for å få den optimale `widget`-backenden til å fungere.\n",
    "Begge programmene støtter også `inline`-backenden uten behov for tilleggsprogramvare, men denne produserer mindre fleksible figurer og bør kun brukes som reserveløsning.\n",
    "Prøv deg selv fram med backendene foreslått under for å finne den som fungerer best for deg."
   ]
  },
  {
   "cell_type": "code",
   "execution_count": 1,
   "metadata": {},
   "outputs": [],
   "source": [
    "# uncomment ONE line to choose matplotlib backend\n",
    "# if using Jupyter Notebook, use interactive \"notebook\" backend for best results\n",
    "# if using Jupyter Lab, use interactive \"widget\" backend for best results\n",
    "# if both fail, use static \"inline\" backend\n",
    "%matplotlib notebook \n",
    "#%matplotlib widget \n",
    "#%matplotlib inline \n",
    "\n",
    "import numpy as np\n",
    "import matplotlib.pyplot as plt"
   ]
  },
  {
   "cell_type": "markdown",
   "metadata": {},
   "source": [
    "## Kort om fysiske enheter i numeriske beregninger\n",
    "\n",
    "I numeriske beregninger må vi ta hensyn til den begrensede presisjonen og størrelsen til flyttallene som datamaskinen bruker for å representere relle tall.\n",
    "I kvantemekanikken møter vi spesielt ofte på Plancks reduserte konstant $\\hbar \\approx 6.63 \\cdot 10^{-34} \\text{ Js}$ og gjerne kvadratet $\\hbar^2$. Det er i utgangspunktet ingenting i veien for å benytte SI-enheter for alle størrelser som opptrer i disse øvingene. Et alternativ er å benytte [atomære enheter](https://en.wikipedia.org/wiki/Hartree_atomic_units).\n",
    "Dette enhetssystemet er skreddersydd for beregninger på atomært nivå.\n",
    "Her er blant annet $\\hbar$, elektronmassen $m_e$ og elementærladningen $e$ *definert* til å ha tallverdi $1$.\n",
    "For eksempel uttrykkes energier som multipler av én hartree, $E_h = \\hbar^2 / m_e a_0^2 \\approx 4.36 \\cdot 10^{-18} \\text{ J}$. En annen løsning er å benytte enheter som $\\text{nm}$ og $\\text{eV}$ for lengder og energier. En hartree tilsvarer ca. 27.2 eV, dvs. det dobbelte av grunntilstandsenergien i hydrogenatomet.\n",
    "\n",
    "**Velg selv hensiktsmessige enheter til bruk i beregningene, men vær oppmerksom på den begrensede presisjonen til flyttall!**"
   ]
  },
  {
   "cell_type": "code",
   "execution_count": null,
   "metadata": {},
   "outputs": [],
   "source": []
  },
  {
   "cell_type": "markdown",
   "metadata": {},
   "source": [
    "# Numerisk løsning av den tidsuavhengige Schrödingerligningen\n",
    "\n",
    "Å løse den tidsuavhengige Schrödingerligningen\n",
    "$$ \\hat{H} \\psi = -\\frac{\\hbar^2}{2 m} \\psi'' + V \\psi = E \\psi, $$\n",
    "dvs. å bestemme energiegenverdier $E$ og tilhørende energiegenfunksjoner $\\psi(x)$ for et gitt potensial $V(x)$, er et sentralt problem i kvantemekanikken. Dette er ofte ingen enkel oppgave.\n",
    "Selv for potensialer som gir ligningen analytiske løsninger, kreves det ofte betydelig innsats og bruk av spesielle teknikker for å komme fram til disse.\n",
    "Vi skal her se på en elegant og generell teknikk for å løse ligningen numerisk for et vilkårlig potensial (i én dimensjon).\n",
    "\n",
    "Numeriske løsningsmetoder innebærer alltid en viss avgrensning og diskretisering for å gjøre problemet endelig og håndterlig for en datamaskin. Vi avgrenser her delen av rommet vi ser på til å ligge mellom to endepunkter $x_0$ og $x_{N+1}$ og deler opp intervallet mellom dem i punktene $x_0, x_1, \\ldots, x_N, x_{N+1}$ med lik avstand $\\Delta x$ mellom hvert punkt.\n",
    "Utenfor dette området definerer vi potensialet til $V(x \\leq x_0) = V(x \\geq x_{N+1}) = \\infty$, slik at $\\psi(x \\leq x_0) = \\psi(x \\geq x_{N+1}) = 0$ og det kun er bølgefunksjonens verdier på rutenettet $\\boldsymbol{x} = [x_1, \\ldots, x_N]^T$ som er ukjente og av interesse.\n",
    "Til hvert punkt tilordner vi verdiene $\\psi_i = \\psi(x_i)$ og $V_i = V(x_i)$ til energiegenfunksjonene og potensialet, og vi refererer til verdiene av funksjonene i alle punktene ved hjelp av vektorene $\\boldsymbol{V} = [V_1, \\ldots, V_N]^T$ og $\\boldsymbol{\\psi} = [\\psi_1, \\ldots, \\psi_N]^T$.\n",
    "\n",
    "En intuitiv og enkel tilnærming av den deriverte til en funksjon er den sentrale differansen\n",
    "$$ \\psi'(x) = \\frac{\\psi(x + \\Delta x / 2) - \\psi(x - \\Delta x / 2)}{\\Delta x} $$\n",
    "Om vi bruker denne tilnærmingen to ganger, kan vi også tilnærme den andrederiverte som\n",
    "$$ \\psi''(x) = \\frac{\\psi'(x + \\Delta x / 2) - \\psi'(x - \\Delta x / 2)}{\\Delta x} = \\frac{\\psi(x + \\Delta x) - 2 \\psi(x) + \\psi(x - \\Delta x)}{\\Delta x^2}$$\n",
    "\n",
    "Ved å sette denne tilnærmingen inn i den tidsuavhengige Schrödingerligningen, kan vi tilnærme den numerisk som\n",
    "$$-\\frac{\\hbar^2}{2 m} \\frac{\\psi_{i+1} - 2 \\psi_i + \\psi_{i-1}}{{\\Delta x}^2} + V_i \\psi_i = E \\psi_i \\qquad \\text{for}\\,\\, i = 1, 2, \\ldots, N$$\n",
    "\n",
    "Vi kan uttrykke denne ligningen på en elegant måte ved å innføre $N \\times N$-Hamiltonmatrisen $H$ med elementer\n",
    "$$ H_{i j} = \\begin{cases} \n",
    "    \\hbar^2 / (m \\Delta x^2) + V_i & \\text{for} \\,\\, i = j         & \\text{(på diagonalen)}        \\\\ \n",
    "    -\\hbar^2 / (2 m \\Delta x^2)    & \\text{for} \\,\\, i = j \\pm 1   & \\text{(på semidiagonalene)}   \\\\\n",
    "    0                              & \\text{ellers}                                                 \\\\\n",
    "\\end{cases} $$\n",
    "og benytte oss av vektoren $\\boldsymbol{\\psi} = [\\psi_1, \\ldots, \\psi_N]^T$.\n",
    "Den tar da formen\n",
    "$$ H \\boldsymbol{\\psi} = E \\boldsymbol{\\psi} $$\n",
    "Energiene $E$ og energiegenfunksjonene $\\boldsymbol{\\psi}$ er dermed egenverdier og egenvektorer til matrisen $H$!\n",
    "\n",
    "Numerikkbiblioteker har funksjonalitet for å finne egenverdier og egenvektorer til vilkårlige matriser.\n",
    "De har gjerne også spesialiserte funksjoner som gjør dette mer effektivt for matriser med en spesiell form, for eksempel som den *tridiagonale* (samt reelle og symmetriske) formen til matrisen $H$.\n",
    "\n",
    "**Skriv en funksjon som beregner og returnerer alle energiegenverdier $E$ og tilhørende energiegenfunksjoner $\\boldsymbol{\\psi}$ for en partikkel med masse $m$ som befinner seg i et gitt potensial $\\boldsymbol{V}$ på rutenettet $\\boldsymbol{x}$. Normér energiegenfunksjonene i forstanden $\\int |\\psi|^2 \\mathrm{d}x$ = 1.**"
   ]
  },
  {
   "cell_type": "code",
   "execution_count": 17,
   "metadata": {},
   "outputs": [
    {
     "name": "stdout",
     "output_type": "stream",
     "text": [
      "(array([1.00049347, 1.00197376, 1.00444051, 1.00789311, 1.01233073,\n",
      "       1.01775227, 1.02415642, 1.03154161, 1.03990603, 1.04924764,\n",
      "       1.05956417, 1.07085308, 1.08311163, 1.09633681, 1.1105254 ,\n",
      "       1.12567393, 1.1417787 , 1.15883577, 1.17684099, 1.19578994,\n",
      "       1.21567801, 1.23650033, 1.25825182, 1.28092716, 1.30452081,\n",
      "       1.32902701, 1.35443978, 1.3807529 , 1.40795995, 1.43605429,\n",
      "       1.46502904, 1.49487713, 1.52559126, 1.55716395, 1.58958747,\n",
      "       1.6228539 , 1.65695511, 1.69188278, 1.72762838, 1.76418316,\n",
      "       1.80153821, 1.83968439, 1.87861239, 1.9183127 , 1.95877561,\n",
      "       1.99999125, 2.04194955, 2.08464025, 2.12805293, 2.17217699,\n",
      "       2.21700163, 2.26251593, 2.30870874, 2.3555688 , 2.40308465,\n",
      "       2.45124469, 2.50003715, 2.54945011, 2.5994715 , 2.6500891 ,\n",
      "       2.70129055, 2.75306334, 2.80539482, 2.85827221, 2.91168259,\n",
      "       2.96561291, 3.02005   , 3.07498056, 3.13039117, 3.1862683 ,\n",
      "       3.24259829, 3.29936738, 3.35656172, 3.41416732, 3.47217011,\n",
      "       3.53055592, 3.5893105 , 3.64841948, 3.70786843, 3.76764283,\n",
      "       3.82772807, 3.88810947, 3.94877229, 4.00970171, 4.07088284,\n",
      "       4.13230074, 4.19394039, 4.25578676, 4.31782472, 4.38003912,\n",
      "       4.44241477, 4.50493642, 4.5675888 , 4.63035662, 4.69322452,\n",
      "       4.75617717, 4.81919917, 4.88227514, 4.94538966, 5.00852732,\n",
      "       5.07167268, 5.13481034, 5.19792486, 5.26100083, 5.32402283,\n",
      "       5.38697548, 5.44984338, 5.5126112 , 5.57526358, 5.63778523,\n",
      "       5.70016088, 5.76237528, 5.82441324, 5.88625961, 5.94789926,\n",
      "       6.00931716, 6.07049829, 6.13142771, 6.19209053, 6.25247193,\n",
      "       6.31255717, 6.37233157, 6.43178052, 6.4908895 , 6.54964408,\n",
      "       6.60802989, 6.66603268, 6.72363828, 6.78083262, 6.83760171,\n",
      "       6.8939317 , 6.94980883, 7.00521944, 7.06015   , 7.11458709,\n",
      "       7.16851741, 7.22192779, 7.27480518, 7.32713666, 7.37890945,\n",
      "       7.4301109 , 7.4807285 , 7.53074989, 7.58016285, 7.62895531,\n",
      "       7.67711535, 7.7246312 , 7.77149126, 7.81768407, 7.86319837,\n",
      "       7.90802301, 7.95214707, 7.99555975, 8.03825045, 8.08020875,\n",
      "       8.12142439, 8.1618873 , 8.20158761, 8.24051561, 8.27866179,\n",
      "       8.31601684, 8.35257162, 8.38831722, 8.42324489, 8.4573461 ,\n",
      "       8.49061253, 8.52303605, 8.55460874, 8.58532287, 8.61517096,\n",
      "       8.64414571, 8.67224005, 8.6994471 , 8.72576022, 8.75117299,\n",
      "       8.77567919, 8.79927284, 8.82194818, 8.84369967, 8.86452199,\n",
      "       8.88441006, 8.90335901, 8.92136423, 8.9384213 , 8.95452607,\n",
      "       8.9696746 , 8.98386319, 8.99708837, 9.00934692, 9.02063583,\n",
      "       9.03095236, 9.04029397, 9.04865839, 9.05604358, 9.06244773,\n",
      "       9.06786927, 9.07230689, 9.07575949, 9.07822624, 9.07970653]), array([[ 0.00155903, -0.00311767, -0.00467555, ...,  0.00467555,\n",
      "        -0.00311767,  0.00155903],\n",
      "       [ 0.00311767, -0.00623229, -0.00934083, ..., -0.00934083,\n",
      "         0.00623229, -0.00311767],\n",
      "       [ 0.00467555, -0.00934083, -0.01398557, ...,  0.01398557,\n",
      "        -0.00934083,  0.00467555],\n",
      "       ...,\n",
      "       [ 0.00467555,  0.00934083, -0.01398557, ..., -0.01398557,\n",
      "        -0.00934083, -0.00467555],\n",
      "       [ 0.00311767,  0.00623229, -0.00934083, ...,  0.00934083,\n",
      "         0.00623229,  0.00311767],\n",
      "       [ 0.00155903,  0.00311767, -0.00467555, ..., -0.00467555,\n",
      "        -0.00311767, -0.00155903]]))\n"
     ]
    }
   ],
   "source": [
    "from scipy.linalg import eigh_tridiagonal\n",
    "import numpy as np\n",
    "import matplotlib.pyplot as plt\n",
    "\n",
    "h_bar = 1\n",
    "#Definerer noen størrelser foreløpig\n",
    "m = 1 #masse\n",
    "x_0 = 0 #Venstre endepunkt\n",
    "x_N_1 = 100 #Høyre endepunkt\n",
    "N = 200 #Antall punkter mellom endepunktene\n",
    "L = x_N_1 - x_0 #Lengden på intervallet mellom endepunktene\n",
    "\n",
    "V = 1\n",
    "delta_x = L/(N+1) #Avstand mellom hvert diskrete punkt\n",
    "\n",
    "#Finn ut hvilken av disse burde brukes som x-verdier! (gir litt ulike x-verdier)\n",
    "x = np.linspace(x_0, x_N_1, N+1) #N+1 diskrete punkter mellom endepunktene\n",
    "x_1 = np.arange(x_0, x_N_1, delta_x) #N+1 diskrete diskrete punkter mellom endepunktene\n",
    "\n",
    "#Sjekk om det stemmer!?\n",
    "d = np.full(N,h_bar**2/(m*delta_x**2)+V) #Elementer på diagonalen\n",
    "e = np.full(N-1,-h_bar**2/(2*m*delta_x**2)) #Elementer på semidiagonalen\n",
    "\n",
    "E = eigh_tridiagonal(d,e)\n",
    "print(E)"
   ]
  },
  {
   "cell_type": "markdown",
   "metadata": {},
   "source": [
    "I resten av øvingen skal vi rett og slett bare bruke denne numeriske løsningsmetoden på en rekke forskjellige potensialer.\n",
    "I noen av eksemplene skal vi også sammenligne de numeriske verdiene med analytiske resultater.\n",
    "For å gjøre denne prosessen så enkel som mulig, foreslår vi at du her skriver én \"ultimat\" plottefunksjon som du kan gjenbruke i alle disse oppgavene.\n",
    "\n",
    "**Skriv en funksjon som framstiller potensialet $\\boldsymbol{V}$, energiegenverdier $E$ og energiegenfunksjoner $\\boldsymbol{\\psi}$ (eller absoluttkvadratene $|\\boldsymbol{\\psi}|^2$) på rutenettet $\\boldsymbol{x}$ grafisk. Funksjonen skal også kunne brukes til å sammenligne to sett med (numeriske og analytiske) energier og energiegenfunksjoner.**\n",
    "\n",
    "**Gjør gjerne dette parallelt med resten av oppgavene, slik at du kan tilpasse framstillingen basert på behovene som oppstår. Se gjerne i forelesningsnotater, bøker og søk rundt på Internett for å få litt inspirasjon til hvordan framstillingen kan gjøres.**"
   ]
  },
  {
   "cell_type": "code",
   "execution_count": null,
   "metadata": {},
   "outputs": [],
   "source": []
  },
  {
   "cell_type": "markdown",
   "metadata": {},
   "source": [
    "## Partikkel i boks\n",
    "\n",
    "Et av de første kvantemekaniske problemene vi støter på er partikkel i boks.\n",
    "Her er potensialet, de normerte energiegenfunksjonene og energiegenverdiene\n",
    "$$\n",
    "V(x) = \\begin{cases}0 & \\text{for}\\,\\, 0 \\leq x \\leq L \\\\ \\infty & \\text{ellers} \\end{cases},\n",
    "\\quad \\psi(x) = \\sqrt{\\frac{2}{L}} \\sin{\\frac{n \\pi x}{L}}, \n",
    "\\quad E = \\frac{n^2 \\pi^2 \\hbar^2}{2 m L^2},\n",
    "\\quad \\quad n = 1, 2, \\ldots,\n",
    "$$\n",
    "\n",
    "**Sammenlign numeriske og analytiske verdier for noen energier og energiegenfunksjoner for et elektron i en boks grafisk.**\n",
    "\n",
    "**Hvordan er spredningen i energinivåene?**"
   ]
  },
  {
   "cell_type": "code",
   "execution_count": null,
   "metadata": {},
   "outputs": [],
   "source": []
  },
  {
   "cell_type": "markdown",
   "metadata": {},
   "source": [
    "## Harmonisk oscillator\n",
    "\n",
    "Et annet standard kvantemekanisk problem er den harmoniske oscillatoren med\n",
    "$$\n",
    "V(x) = \\frac{1}{2}m \\omega^2 x^2,\n",
    "\\quad \\psi(x) = \\frac{1}{\\sqrt{2^n n!}} \\cdot \\left(\\frac{m \\omega}{\\pi \\hbar}\\right)^{1/4} \\cdot \\exp{\\left(-\\frac{m \\omega x^2}{2 \\hbar}\\right)} \\cdot H_n\\left(\\sqrt{\\frac{m \\omega}{\\hbar}}x\\right),\n",
    "\\quad E = \\left(n+\\frac{1}{2}\\right)\\hbar \\omega,\n",
    "\\quad \\quad n = 0, 1, 2, \\ldots\n",
    "$$\n",
    "Funksjonene $H_n(y)$ (med dimensjonsløs $y$) kalles [(fysikerens) Hermitepolynomer](https://en.wikipedia.org/wiki/Hermite_polynomials).\n",
    "De er tilgjengelige i numerikkbiblioteker, men kan også beregnes fra rekursjonsrelasjonen\n",
    "$$ H_n(x) = 2 x H_{n-1}(x) - 2 (n-1) H_{n-2}(x), \\quad H_0(x) = 1, \\quad H_1(x) = 2 x$$\n",
    "\n",
    "Den harmoniske oscillatoren er spesielt interessant i topartikkelsystemer, der et problem med for eksempel to atomer med masse $m_1$ og $m_2$ i et toatomig molekyl reduseres til et ekvivalent enpartikkelproblem med *redusert masse* $m = m_1 m_2 / (m_1 + m_2)$.\n",
    "Sammen med konstanten $\\omega$ utgjør denne et mål på en fjærkonstant som beskriver vibrasjonsbevegelsen mellom de to atomene.\n",
    "\n",
    "**Sammenlign numeriske og analytiske verdier for noen energier og energiegenfunksjoner i en harmonisk oscillator grafisk.**\n",
    "\n",
    "**Hvordan er spredningen i energinivåene?**"
   ]
  },
  {
   "cell_type": "code",
   "execution_count": null,
   "metadata": {},
   "outputs": [],
   "source": []
  },
  {
   "cell_type": "markdown",
   "metadata": {},
   "source": [
    "## Partikkel i endelige brønnpotensialer\n",
    "\n",
    "Et tredje velkjent eksempel er enkeltbrønnen\n",
    "$$V(x) = \\begin{cases}\n",
    "-V_0 & \\text{for}\\,\\, 0 < x < w \\\\ \n",
    "0   & \\text{ellers}\n",
    "\\end{cases}$$\n",
    "med bredde $w$ og brønndybde $V_0 > 0$.\n",
    "I dette potensialet finnes ingen analytiske løsninger for de bundne stasjonære tilstandenes energiegenverdier.\n",
    "\n",
    "Enkeltbrønnen kan generaliseres til et potensial bestående av $N_w$ slike enkeltbrønner plassert ved siden av hverandre med en fast avstand $g$ mellom hver brønn.\n",
    "Med første brønn i $x = 0$, kan vi uttrykke det sammensatte brønnpotensialet stykkevis som\n",
    "\n",
    "$$V(x) = \\begin{cases}\n",
    "0    & \\text{for}\\,\\, x < 0 \\,\\, \\text{og} \\,\\, x > N_w (w + g) & \\text{(utenfor brønnområdet)} \\\\\n",
    "-V_0 & \\text{for}\\,\\, \\frac{x}{w+g} - \\left\\lfloor \\frac{x}{w+g} \\right\\rfloor < \\frac{w}{w+g} & \\text{(i brønnene)} \\\\\n",
    "0    & \\text{ellers} & \\text{(mellom brønnene)} \\\\\n",
    "\\end{cases}$$\n",
    "\n",
    "Dette er en enkel modell for det periodiske potensialet som et elektron opplever i et fast stoff med en regulær krystallinsk struktur, for eksempel et metall.\n",
    "\n",
    "**Framstill de bundne tilstandene for et elektron både i en enkeltbrønn og i et sammensatt potensial bestående av mange brønner grafisk. Legg inn et passe stort område med $V = 0$ på begge sider av brønnområdet.**\n",
    "\n",
    "**Hvordan distribueres energinivåene i potensialet bestående av mange brønner sammenlignet med enkeltbrønnen? Kan du ut fra dette forklare hva vi mener med *energibåndstrukturen* til et fast stoff ved hjelp av begrepene *båndbredde* og *båndgap*?**"
   ]
  },
  {
   "cell_type": "code",
   "execution_count": null,
   "metadata": {},
   "outputs": [],
   "source": []
  },
  {
   "cell_type": "markdown",
   "metadata": {},
   "source": [
    "## Partikkel i Deltabarriere eller Deltabrønn\n",
    "\n",
    "Et fjerde velkjent eksempel er Deltabrønnen\n",
    "$$ V(x) = -\\alpha \\delta(x) $$\n",
    "der $\\delta(x)$ er Diracs deltafunksjon og $\\alpha > 0$ er en konstant.\n",
    "Deltapotensialet er, grovt sagt, ikke annet enn et endelig brønnpotensial der $w \\rightarrow 0$ og $V_0 \\rightarrow \\infty$, men slik at produktet $\\alpha = V_0 w$ er endelig.\n",
    "\n",
    "**Framstill noen energier og energiegenfunksjoner for et elektron i en Deltabrønn grafisk. Approksimér Deltabrønnen som en smal og dyp enkeltbrønn.**\n",
    "\n",
    "**Hvor mange bundne tilstander ser det ut til å være i Deltabrønnen?**"
   ]
  },
  {
   "cell_type": "code",
   "execution_count": null,
   "metadata": {},
   "outputs": [],
   "source": []
  },
  {
   "cell_type": "markdown",
   "metadata": {},
   "source": [
    "## Avsluttende ord\n",
    "\n",
    "Implementeringen av den numeriske metoden har nok vært krevende, men vi håper du setter pris på sluttresultatet.\n",
    "Selv om en hvilken som helst numerisk teknikk nødvendigvis fører med seg numeriske feil og har visse begrensninger, er det på den andre siden forhåpentligvis tilfredsstillende å kunne bruke én generell metode til å utforske så mange problemer.\n",
    "\n",
    "**Bruk gjerne den numeriske metoden som et verktøy i framtidige situasjoner der det kan være nyttig å få et raskt overblikk over stasjonære tilstander eller energinivåer!**"
   ]
  },
  {
   "cell_type": "code",
   "execution_count": null,
   "metadata": {},
   "outputs": [],
   "source": []
  }
 ],
 "metadata": {
  "kernelspec": {
   "display_name": "Python 3",
   "language": "python",
   "name": "python3"
  },
  "language_info": {
   "codemirror_mode": {
    "name": "ipython",
    "version": 3
   },
   "file_extension": ".py",
   "mimetype": "text/x-python",
   "name": "python",
   "nbconvert_exporter": "python",
   "pygments_lexer": "ipython3",
   "version": "3.7.6"
  }
 },
 "nbformat": 4,
 "nbformat_minor": 4
}
